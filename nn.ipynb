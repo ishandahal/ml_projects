{
  "nbformat": 4,
  "nbformat_minor": 0,
  "metadata": {
    "kernelspec": {
      "display_name": "Python 3",
      "language": "python",
      "name": "python3"
    },
    "language_info": {
      "codemirror_mode": {
        "name": "ipython",
        "version": 3
      },
      "file_extension": ".py",
      "mimetype": "text/x-python",
      "name": "python",
      "nbconvert_exporter": "python",
      "pygments_lexer": "ipython3",
      "version": "3.7.1"
    },
    "toc": {
      "base_numbering": 1,
      "nav_menu": {},
      "number_sections": true,
      "sideBar": true,
      "skip_h1_title": false,
      "title_cell": "Table of Contents",
      "title_sidebar": "Contents",
      "toc_cell": false,
      "toc_position": {},
      "toc_section_display": true,
      "toc_window_display": false
    },
    "colab": {
      "name": "nn.ipynb",
      "provenance": [],
      "collapsed_sections": [],
      "include_colab_link": true
    }
  },
  "cells": [
    {
      "cell_type": "markdown",
      "metadata": {
        "id": "view-in-github",
        "colab_type": "text"
      },
      "source": [
        "<a href=\"https://colab.research.google.com/github/ishandahal/ml_projects/blob/main/nn.ipynb\" target=\"_parent\"><img src=\"https://colab.research.google.com/assets/colab-badge.svg\" alt=\"Open In Colab\"/></a>"
      ]
    },
    {
      "cell_type": "code",
      "metadata": {
        "id": "PfXYLBdbGydw"
      },
      "source": [
        "import torch"
      ],
      "execution_count": null,
      "outputs": []
    },
    {
      "cell_type": "code",
      "metadata": {
        "id": "HpUakn7sHdUu"
      },
      "source": [
        "class NeuronModel():\n",
        "    \"\"\"Single Layered Neural Network.\n",
        "\n",
        "    Parameters\n",
        "    ------------\n",
        "    num_features : int\n",
        "      Number of features of the dataset\n",
        "    weights : 1d-array\n",
        "      Parameters for the features\n",
        "    bias : 1d-array\n",
        "      Parameter for the bias term\n",
        "\n",
        "    \"\"\"\n",
        "\n",
        "    def __init__(self, num_features):\n",
        "        self.num_features = num_features\n",
        "        self.weights = torch.zeros(num_features, 1, \n",
        "                                   dtype=torch.float)\n",
        "        self.bias = torch.zeros(1, dtype=torch.float)\n",
        "        \n",
        "    def netinput_func(self, x, w, b):\n",
        "        \"\"\"Matrix multiply between weights and features and add the bias term.\n",
        "\n",
        "        Parameters\n",
        "        ----------\n",
        "        x : {array-like}, shape = [n_examples, n_features]\n",
        "          Training vectors, where n_examples is the number of examples and\n",
        "          n_features is the number of features.\n",
        "        w : {array-like}, shape = [num_features, 1]\n",
        "          Weight parameters, where num_features is the number of features\n",
        "        b : array-like, shape = [1]\n",
        "          Bias parameter\n",
        "\n",
        "        Returns\n",
        "        -------\n",
        "        {array-like}, shape = [n_examples, 1]\n",
        "          Matrix product of weights and features plus the bias term, where\n",
        "          n_examples is the number of examples \n",
        "\n",
        "        \"\"\"\n",
        "\n",
        "        return torch.add(torch.mm(x, w), b)\n",
        "\n",
        "    def forward(self, x):\n",
        "        \"\"\"\n",
        "        Forward pass through the network. netinput_func computes the matrix\n",
        "        multiply followed by the activation_func which computes tanh activation\n",
        "\n",
        "        Parameters\n",
        "        ----------\n",
        "        x : {array-like}, shape = [n_examples, n_features]\n",
        "          Training vectors, where n_examples is the number of examples and\n",
        "          n_features is the number of features.\n",
        "\n",
        "        Returns\n",
        "        -------\n",
        "        {array-like}, shape = [n_examples, 1]\n",
        "          Activations, where n_examples is the total number of examples. Since \n",
        "          this is a single layered network the activations are also the \n",
        "          predictions\n",
        "\n",
        "        \"\"\"\n",
        "\n",
        "        netinputs = self.netinput_func(x, self.weights, self.bias)\n",
        "        activations = self.activation_func(netinputs)\n",
        "        return activations.view(-1)\n",
        "        \n",
        "    def backward(self, x, yhat, y):\n",
        "        \"\"\"\n",
        "        Computes gradients (partial derivaties of loss function with respect \n",
        "        to weights and bias)\n",
        "\n",
        "        Parameters\n",
        "        ----------\n",
        "        x : {array-like}, shape = [n_examples, n_features]\n",
        "          Training vectors, where n_examples is the number of examples and\n",
        "          n_features is the number of features.\n",
        "        yhat : {array-like}, shape = [n_examples, 1]\n",
        "          Activations, where n_examples are number of examples\n",
        "        y : {array-like}, shape = [n_examples, 1]\n",
        "          Target labels, where n_examples are number of examples\n",
        "\n",
        "        Returns\n",
        "        -------\n",
        "        {array-like}, shape = [n_features, 1]\n",
        "          Negative gradients of the loss with respect to the weight parameters,\n",
        "          where num_features is the number of features\n",
        "\n",
        "        {array-like}, shape = [1]\n",
        "          Negative gradients of the loss with respect to the bias parameter\n",
        "\n",
        "        \"\"\"  \n",
        "        \n",
        "        netinputs = self.netinput_func(x, self.weights, self.bias)\n",
        "        \n",
        "        \n",
        "        grad_loss_yhat = 2 * (yhat - y)         # x[0] = (10,)                                                      # partial derivative of the loss with respect to activation\n",
        "\n",
        "\n",
        "        # grad_yhat_bias = (4 / (torch.exp(netinputs) \\\n",
        "        # + torch.exp(-netinputs))**2)            # dim of n                                   ## alternate method of computing the derivative.\n",
        "\n",
        "        # grad_yhat_weights = (4 / (torch.exp(netinputs) \\                                    ## alternate method of computing the derivative.  \n",
        "        # + torch.exp(-netinputs))**2) * x     # dim of x\n",
        "\n",
        "        grad_yhat_weights = (1 - self.activation_func(netinputs)**2) * x                      #dim of x (10X2)            partial derivative of activation with respect to weights \n",
        "        grad_yhat_bias = (1 - self.activation_func(netinputs)**2)                             #dim of x[0] (10,)          partial derivative of activation with respect to bias\n",
        "        \n",
        "        grad_loss_weights = torch.mm(grad_yhat_weights.t(), \n",
        "                                     grad_loss_yhat.view(-1, 1)) / y.size(0)                  #dim = (2X10).dot(10X1) = 2X1       Using the chain rule (inner and outer)\n",
        "        grad_loss_bias = torch.sum(grad_loss_yhat * grad_yhat_bias) / y.size(0)               #dim = sum((10)*(10)) = 1          Using the chain rule (inner and outer)\n",
        "\n",
        "        \n",
        "        return (-1)*grad_loss_weights, (-1)*grad_loss_bias\n",
        "\n",
        "    def activation_func(self, x):\n",
        "        \"\"\"Calculates tanh activation function\"\"\"\n",
        "        return (torch.exp(x) - torch.exp(-x)) / (torch.exp(x) + torch.exp(-x))\n",
        "\n",
        "    def loss(self, yhat, y):\n",
        "        \"\"\"\n",
        "        Returns mean squared error\n",
        "        \"\"\"\n",
        "\n",
        "        return torch.mean((yhat - y)**2)"
      ],
      "execution_count": null,
      "outputs": []
    },
    {
      "cell_type": "markdown",
      "metadata": {
        "id": "NegyV9zgWXwP"
      },
      "source": [
        "#### Testing the class methods"
      ]
    },
    {
      "cell_type": "code",
      "metadata": {
        "id": "CLZ4RFLSGGKB"
      },
      "source": [
        "model = NeuronModel(num_features=2)"
      ],
      "execution_count": null,
      "outputs": []
    },
    {
      "cell_type": "code",
      "metadata": {
        "id": "1i27Gd-SHBHP"
      },
      "source": [
        "X = torch.randn((100, 2))\n",
        "y = torch.tensor([0]*50 + [1]*50)"
      ],
      "execution_count": null,
      "outputs": []
    },
    {
      "cell_type": "code",
      "metadata": {
        "id": "mZKYmfxbHaRA",
        "colab": {
          "base_uri": "https://localhost:8080/"
        },
        "outputId": "3843cee9-b9c2-40b2-cb85-79a0563bd693"
      },
      "source": [
        "lr = 0.001\n",
        "\n",
        "print(\"Running the forward and backward method for 10 rounds:\")\n",
        "for _ in range(10):\n",
        "    y_hat = model.forward(X)\n",
        "    grad_weight, grad_bias = model.backward(X, y_hat, y)\n",
        "    print(f\"Model weights: {model.weights[0].item():.5f}{model.weights[1].item():.5f}\\n Model.bias {model.bias.item():.5f}\")\n",
        "    model.weights -= lr * grad_weight\n",
        "    model.bias -= lr * grad_bias\n",
        "\n",
        "print(\"Parameters are changing.\")"
      ],
      "execution_count": null,
      "outputs": [
        {
          "output_type": "stream",
          "text": [
            "Running the forward and backward method for 10 rounds:\n",
            "Model weights: 0.000000.00000\n",
            " Model.bias 0.00000\n",
            "Model weights: -0.00011-0.00007\n",
            " Model.bias -0.10000\n",
            "Model weights: -0.00023-0.00016\n",
            " Model.bias -0.21874\n",
            "Model weights: -0.00035-0.00027\n",
            " Model.bias -0.35518\n",
            "Model weights: -0.00048-0.00041\n",
            " Model.bias -0.50382\n",
            "Model weights: -0.00061-0.00055\n",
            " Model.bias -0.65509\n",
            "Model weights: -0.00072-0.00069\n",
            " Model.bias -0.79898\n",
            "Model weights: -0.00082-0.00082\n",
            " Model.bias -0.92924\n",
            "Model weights: -0.00091-0.00093\n",
            " Model.bias -1.04406\n",
            "Model weights: -0.00098-0.00103\n",
            " Model.bias -1.14446\n",
            "Parameters are changing.\n"
          ],
          "name": "stdout"
        }
      ]
    },
    {
      "cell_type": "code",
      "metadata": {
        "id": "C3i1S2LNWRVQ"
      },
      "source": [
        ""
      ],
      "execution_count": null,
      "outputs": []
    }
  ]
}